{
 "cells": [
  {
   "cell_type": "markdown",
   "metadata": {
    "toc": true
   },
   "source": [
    "<h1>Table of Contents<span class=\"tocSkip\"></span></h1>\n",
    "<div class=\"toc\"><ul class=\"toc-item\"><li><span><a href=\"#Camera-Calibration\" data-toc-modified-id=\"Camera-Calibration-1\"><span class=\"toc-item-num\">1&nbsp;&nbsp;</span>Camera Calibration</a></span></li><li><span><a href=\"#Pipeline\" data-toc-modified-id=\"Pipeline-2\"><span class=\"toc-item-num\">2&nbsp;&nbsp;</span>Pipeline</a></span><ul class=\"toc-item\"><li><span><a href=\"#Helper-Functions\" data-toc-modified-id=\"Helper-Functions-2.1\"><span class=\"toc-item-num\">2.1&nbsp;&nbsp;</span>Helper Functions</a></span></li><li><span><a href=\"#Testing-Ground-for-Pipeline\" data-toc-modified-id=\"Testing-Ground-for-Pipeline-2.2\"><span class=\"toc-item-num\">2.2&nbsp;&nbsp;</span>Testing Ground for Pipeline</a></span><ul class=\"toc-item\"><li><span><a href=\"#Undistort\" data-toc-modified-id=\"Undistort-2.2.1\"><span class=\"toc-item-num\">2.2.1&nbsp;&nbsp;</span>Undistort</a></span><ul class=\"toc-item\"><li><span><a href=\"#Test\" data-toc-modified-id=\"Test-2.2.1.1\"><span class=\"toc-item-num\">2.2.1.1&nbsp;&nbsp;</span>Test</a></span></li></ul></li><li><span><a href=\"#Binary-Image-Thresholded\" data-toc-modified-id=\"Binary-Image-Thresholded-2.2.2\"><span class=\"toc-item-num\">2.2.2&nbsp;&nbsp;</span>Binary Image Thresholded</a></span><ul class=\"toc-item\"><li><span><a href=\"#Test\" data-toc-modified-id=\"Test-2.2.2.1\"><span class=\"toc-item-num\">2.2.2.1&nbsp;&nbsp;</span>Test</a></span></li></ul></li><li><span><a href=\"#Perspective-Transform\" data-toc-modified-id=\"Perspective-Transform-2.2.3\"><span class=\"toc-item-num\">2.2.3&nbsp;&nbsp;</span>Perspective Transform</a></span><ul class=\"toc-item\"><li><span><a href=\"#Test\" data-toc-modified-id=\"Test-2.2.3.1\"><span class=\"toc-item-num\">2.2.3.1&nbsp;&nbsp;</span>Test</a></span></li></ul></li><li><span><a href=\"#Identify-Lane-Line-Pixels\" data-toc-modified-id=\"Identify-Lane-Line-Pixels-2.2.4\"><span class=\"toc-item-num\">2.2.4&nbsp;&nbsp;</span>Identify Lane-Line Pixels</a></span><ul class=\"toc-item\"><li><span><a href=\"#Test\" data-toc-modified-id=\"Test-2.2.4.1\"><span class=\"toc-item-num\">2.2.4.1&nbsp;&nbsp;</span>Test</a></span></li></ul></li><li><span><a href=\"#Radius-of-Curvature-of-Lane-&amp;-Position-of-Vehicle-w.r.t.-Center\" data-toc-modified-id=\"Radius-of-Curvature-of-Lane-&amp;-Position-of-Vehicle-w.r.t.-Center-2.2.5\"><span class=\"toc-item-num\">2.2.5&nbsp;&nbsp;</span>Radius of Curvature of Lane &amp; Position of Vehicle w.r.t. Center</a></span><ul class=\"toc-item\"><li><span><a href=\"#Test\" data-toc-modified-id=\"Test-2.2.5.1\"><span class=\"toc-item-num\">2.2.5.1&nbsp;&nbsp;</span>Test</a></span></li></ul></li><li><span><a href=\"#Annotate-Image\" data-toc-modified-id=\"Annotate-Image-2.2.6\"><span class=\"toc-item-num\">2.2.6&nbsp;&nbsp;</span>Annotate Image</a></span></li></ul></li><li><span><a href=\"#Main-Pipeline\" data-toc-modified-id=\"Main-Pipeline-2.3\"><span class=\"toc-item-num\">2.3&nbsp;&nbsp;</span>Main Pipeline</a></span></li><li><span><a href=\"#Apply-pipeline-to-images\" data-toc-modified-id=\"Apply-pipeline-to-images-2.4\"><span class=\"toc-item-num\">2.4&nbsp;&nbsp;</span>Apply pipeline to images</a></span></li></ul></li><li><span><a href=\"#Applying-Pipeline-to-Video\" data-toc-modified-id=\"Applying-Pipeline-to-Video-3\"><span class=\"toc-item-num\">3&nbsp;&nbsp;</span>Applying Pipeline to Video</a></span></li></ul></div>"
   ]
  },
  {
   "cell_type": "code",
   "execution_count": null,
   "metadata": {},
   "outputs": [],
   "source": [
    "import cv2\n",
    "import glob\n",
    "import numpy as np\n",
    "import matplotlib.pyplot as plt\n",
    "import matplotlib.image as mpimg\n",
    "import pickle\n",
    "import math\n",
    "%matplotlib inline"
   ]
  },
  {
   "cell_type": "markdown",
   "metadata": {},
   "source": [
    "# Camera Calibration"
   ]
  },
  {
   "cell_type": "markdown",
   "metadata": {},
   "source": [
    "* Find camera matrix & distortion coefficients\n",
    "* Demonstrate undistorting calibration image\n"
   ]
  },
  {
   "cell_type": "code",
   "execution_count": null,
   "metadata": {
    "code_folding": [
     0
    ]
   },
   "outputs": [],
   "source": [
    "def calibration_undistort(images):\n",
    "    '''\n",
    "    Use images to calculate the camera calibration & image distortion matrices\n",
    "    '''\n",
    "    # Object points follow a grid, like (0,0,0), (1,0,0), (2,0,0)...\n",
    "    objp = np.zeros((9*6,3), np.float32)\n",
    "    objp[:,:2] = np.mgrid[0:9,0:6].T.reshape(-1,2)\n",
    "\n",
    "    # Arrays to store object points and image points from all the images.\n",
    "    objpts = [] # 3d points in real world space\n",
    "    imgpts = [] # 2d points in image plane.\n",
    "\n",
    "    # Step through the list and search for chessboard corners\n",
    "    for fname in images:\n",
    "        # Read in each image\n",
    "        img = cv2.imread(fname)\n",
    "\n",
    "        # Find the chessboard corners\n",
    "        gray = cv2.cvtColor(img,cv2.COLOR_BGR2GRAY)\n",
    "        ret, corners = cv2.findChessboardCorners(gray, (9,6),None)\n",
    "\n",
    "        # Add object points & image points if found\n",
    "        if ret == True:\n",
    "            objpts.append(objp)\n",
    "            imgpts.append(corners)\n",
    "     \n",
    "    # Create matrix using all the images (with corners found)\n",
    "    # ret, mtx, dist, rvecs, tvecs\n",
    "    _, mtx, dist, _, _ = cv2.calibrateCamera(objpts, imgpts, img.shape[1:], None, None)\n",
    "    return (mtx, dist)"
   ]
  },
  {
   "cell_type": "code",
   "execution_count": null,
   "metadata": {},
   "outputs": [],
   "source": [
    "# Load all the images & use them to the matrices \n",
    "images = glob.glob('camera_cal/calibration*.jpg')\n",
    "mtx, dist = calibration_undistort(images)"
   ]
  },
  {
   "cell_type": "code",
   "execution_count": null,
   "metadata": {
    "code_folding": [],
    "scrolled": false
   },
   "outputs": [],
   "source": [
    "# TEST: Plot out each image undistorted \n",
    "images = glob.glob('camera_cal/calibration*.jpg')\n",
    "for fname in images:\n",
    "    # Undistort the image\n",
    "    img = cv2.imread(fname)\n",
    "    undist = cv2.undistort(img, mtx, dist, None, mtx)\n",
    "    \n",
    "    # Plotting side-by-side\n",
    "    f, (ax1, ax2) = plt.subplots(1, 2, figsize=(24, 9))\n",
    "    f.tight_layout()\n",
    "    ax1.imshow(img)\n",
    "    ax1.set_title('Original Image', fontsize=50)\n",
    "    ax2.imshow(undist)\n",
    "    ax2.set_title('Undistorted and Warped Image', fontsize=50)\n",
    "    plt.subplots_adjust(left=0., right=1, top=0.9, bottom=0.)"
   ]
  },
  {
   "cell_type": "code",
   "execution_count": null,
   "metadata": {},
   "outputs": [],
   "source": [
    "# Save the calibration for later use\n",
    "pickle.dump({'mtx': mtx, 'dist': dist}, \n",
    "            open('camera_cal/calibration_matrices.pickle', 'wb')\n",
    ")"
   ]
  },
  {
   "cell_type": "markdown",
   "metadata": {},
   "source": [
    "# Pipeline"
   ]
  },
  {
   "cell_type": "markdown",
   "metadata": {},
   "source": [
    "For all images:\n",
    "\n",
    "* Distortion correction image\n",
    "* Create a thresholded binary image\n",
    "    - Color transforms, gradients or other methods\n",
    "* Perspective transform (\"birds-eye view\")\n",
    "* Identify lane-line pixels and fit their positions with a polynomial\n",
    "* Calculate radius of curvature of lane & position of vehicle with respect to center\n",
    "* Result plotted down onto the road so lane area is identified clearly\n"
   ]
  },
  {
   "cell_type": "markdown",
   "metadata": {},
   "source": [
    "## Helper Functions"
   ]
  },
  {
   "cell_type": "code",
   "execution_count": null,
   "metadata": {
    "code_folding": [
     0,
     12
    ]
   },
   "outputs": [],
   "source": [
    "def read_image_from_file(img_filepath, convert=None):\n",
    "    '''\n",
    "    Returns the filename/filepath & image (numpy matrix) from given file path.\n",
    "    '''\n",
    "    img = cv2.imread(img_filepath)\n",
    "    \n",
    "    # Allow for color conversion\n",
    "    if convert:\n",
    "        img = cv2.cvtColor(img, convert)\n",
    "        \n",
    "    return (img_filepath, img)\n",
    "\n",
    "def display_images(fnames_and_imgs, figsize=(24,8), cols=3, rows=None, cmap=None, convert=None):\n",
    "    '''\n",
    "    Display images given a list of images to display. If `rows` is `None`, \n",
    "    rows will be calculated given the number of columns `cols`\n",
    "    '''\n",
    "    \n",
    "    # Getting the size to plot; enough rows to fit column\n",
    "    if not rows:\n",
    "        rows = math.ceil(len(fnames_and_imgs)/cols)\n",
    "    elif rows*cols < len(fnames_and_imgs):\n",
    "        print(f'Note: not all images will be displayed')\n",
    "        print(f'{len(fnames_and_imgs)} images, but only {rows*cols} will be displayed')\n",
    "    f, axs = plt.subplots(rows, cols, figsize=figsize)\n",
    "    \n",
    "    \n",
    "    # Iterate over each axis to display the image\n",
    "    for ax, fname_imgs_tuple in zip(axs.flat, fnames_and_imgs):\n",
    "        fname, img = fname_imgs_tuple\n",
    "        # Allow for color conversion\n",
    "        if convert:\n",
    "            img = cv2.cvtColor(img, convert)\n",
    "        ax.set_title(fname)\n",
    "        ax.imshow(img, cmap=cmap)\n",
    "    "
   ]
  },
  {
   "cell_type": "markdown",
   "metadata": {},
   "source": [
    "## Testing Ground for Pipeline"
   ]
  },
  {
   "cell_type": "code",
   "execution_count": null,
   "metadata": {},
   "outputs": [],
   "source": [
    "# Load camera calibration matrices from earlier\n",
    "cameraCalibration = pickle.load( open('camera_cal/calibration_matrices.pickle', 'rb' ) )\n",
    "mtx, dist = map(cameraCalibration.get, ('mtx', 'dist'))"
   ]
  },
  {
   "cell_type": "code",
   "execution_count": null,
   "metadata": {
    "scrolled": true
   },
   "outputs": [],
   "source": [
    "# Read in files to convert\n",
    "test_image_fnames = glob.glob('test_images/advance/*.jpg')\n",
    "test_images = [read_image_from_file(img, convert=cv2.COLOR_BGR2RGB) \n",
    "                   for img in test_image_fnames]\n",
    "\n",
    "# Display the unmodified images\n",
    "display_images(test_images, cols=4, figsize=(24,8))"
   ]
  },
  {
   "cell_type": "markdown",
   "metadata": {},
   "source": [
    "### Undistort"
   ]
  },
  {
   "cell_type": "code",
   "execution_count": null,
   "metadata": {},
   "outputs": [],
   "source": [
    "# Distortion correction\n",
    "def undistort_image(img, mtx, dist):\n",
    "    '''\n",
    "    Undistort a given image using `mtx` & `dist` matrices.\n",
    "    '''\n",
    "    undist_img = cv2.undistort(img, mtx, dist, None, mtx)\n",
    "    return undist_img"
   ]
  },
  {
   "cell_type": "markdown",
   "metadata": {},
   "source": [
    "#### Test"
   ]
  },
  {
   "cell_type": "code",
   "execution_count": null,
   "metadata": {},
   "outputs": [],
   "source": [
    "# Test undistortion\n",
    "undist_imgs = [(fn,undistort_image(i,mtx,dist)) for fn,i in test_images]\n",
    "display_images(undist_imgs, cols=4)"
   ]
  },
  {
   "cell_type": "markdown",
   "metadata": {},
   "source": [
    "### Binary Image Thresholded"
   ]
  },
  {
   "cell_type": "code",
   "execution_count": null,
   "metadata": {
    "code_folding": []
   },
   "outputs": [],
   "source": [
    "def abs_sobel_thresh(img, orient='x', ksize=3, thresholds=(0,255)):\n",
    "    '''\n",
    "    Using OpenCV Sobel() function, get the absolute value of the x or y \n",
    "    gradient to produce a binary image based on the kernel size and the\n",
    "    given thresholds.\n",
    "    '''\n",
    "#     gray = cv2.cvtColor(img, cv2.COLOR_RGB2GRAY)\n",
    "    gray = cv2.cvtColor(img, cv2.COLOR_BGR2HLS)[:,:,2]\n",
    "    \n",
    "    # Take the absolute value of x or y gradient using OpenCV Sobel() function \n",
    "    if orient == 'x':\n",
    "        abs_sobel = np.absolute(cv2.Sobel(gray, cv2.CV_64F, 1, 0, ksize=ksize))\n",
    "    elif orient == 'y':\n",
    "        abs_sobel = np.absolute(cv2.Sobel(gray, cv2.CV_64F, 0, 1, ksize=ksize))\n",
    "    \n",
    "    # Rescale back to 8 bit integer\n",
    "    scaled_sobel = np.uint8(255*abs_sobel/np.max(abs_sobel))\n",
    "    \n",
    "    # Create a binary image of 1s where threshold is met, otherwise 0s\n",
    "    binary_out = np.zeros_like(scaled_sobel)\n",
    "    thresh_min, thresh_max = thresholds\n",
    "    binary_out[(scaled_sobel > thresh_min) & (scaled_sobel < thresh_max)] = 1\n",
    "\n",
    "    # Return the binary image\n",
    "    return binary_out\n",
    "\n",
    "def mag_thresh(img, sobel_ksize=3, thresholds=(0,255)):\n",
    "    '''\n",
    "    Using OpenCV Sobel() function, get the gradient magnitude of the x and y \n",
    "    gradients to produce a binary image based on the kernel size and the\n",
    "    given thresholds.\n",
    "    '''\n",
    "#     gray = cv2.cvtColor(img, cv2.COLOR_RGB2GRAY)\n",
    "    gray = cv2.cvtColor(img, cv2.COLOR_BGR2HLS)[:,:,2]\n",
    "    \n",
    "    # Calculate the x and y gradients\n",
    "    sobelx = cv2.Sobel(gray, cv2.CV_64F, 1, 0, ksize=sobel_ksize)\n",
    "    sobely = cv2.Sobel(gray, cv2.CV_64F, 0, 1, ksize=sobel_ksize)\n",
    "    \n",
    "    # Calculate the gradient magnitude\n",
    "    gradmag = np.sqrt(sobelx**2 + sobely**2)\n",
    "    \n",
    "    # Rescale to 8 bit\n",
    "    scale_factor = np.max(gradmag)/255 \n",
    "    gradmag = (gradmag/scale_factor).astype(np.uint8) \n",
    "    \n",
    "    # Create a binary image of 1s where threshold is met, otherwise 0s\n",
    "    binary_out = np.zeros_like(gradmag)\n",
    "    thresh_min, thresh_max = thresholds\n",
    "    binary_out[(gradmag > thresh_min) & (gradmag < thresh_max)] = 1\n",
    "\n",
    "    # Return the binary image\n",
    "    return binary_out\n",
    "\n",
    "def dir_threshold(img, sobel_ksize=3, thresholds=(0,np.pi/2)):\n",
    "    '''\n",
    "    Using OpenCV Sobel() function, get the gradient direction of the x and y \n",
    "    gradients to produce a binary image based on the kernel size and the\n",
    "    given thresholds.    \n",
    "    '''\n",
    "#     gray = cv2.cvtColor(img, cv2.COLOR_RGB2GRAY)\n",
    "    gray = cv2.cvtColor(img, cv2.COLOR_BGR2HLS)[:,:,2]\n",
    "    \n",
    "    # Calculate the x and y gradients\n",
    "    sobelx = cv2.Sobel(gray, cv2.CV_64F, 1, 0, ksize=sobel_ksize)\n",
    "    sobely = cv2.Sobel(gray, cv2.CV_64F, 0, 1, ksize=sobel_ksize)\n",
    "    \n",
    "    # Calculate absolute value of the gradient direction, \n",
    "    absgraddir = np.arctan2(np.absolute(sobely), np.absolute(sobelx))\n",
    "    \n",
    "    # Create a binary image of 1s where threshold is met, otherwise 0s \n",
    "    binary_out =  np.zeros_like(absgraddir)\n",
    "    thresh_min, thresh_max = thresholds\n",
    "    binary_out[(absgraddir > thresh_min) & (absgraddir < thresh_max)] = 1\n",
    "\n",
    "    # Return the binary image\n",
    "    return binary_out"
   ]
  },
  {
   "cell_type": "code",
   "execution_count": null,
   "metadata": {
    "code_folding": []
   },
   "outputs": [],
   "source": [
    "def full_binary_image(img, ksize=3, x_thres=(30,100), y_thres=(30,100), \n",
    "                      mag_thres=(30,100), dir_thres=(0,np.pi/2)):\n",
    "    '''\n",
    "    Using OpenCV Sobel() function, get the gradient direction of the x and y \n",
    "    gradients to produce a binary image based on the kernel size and the\n",
    "    given thresholds.   \n",
    "    '''\n",
    "    # Apply each of the thresholding functions\n",
    "    gradx = abs_sobel_thresh(img, orient='x', ksize=ksize, thresholds=x_thres)\n",
    "    grady = abs_sobel_thresh(img, orient='y', ksize=ksize, thresholds=y_thres)\n",
    "    mag_binary = mag_thresh(img, sobel_ksize=ksize, thresholds=mag_thres)\n",
    "    dir_binary = dir_threshold(img, sobel_ksize=ksize, thresholds=dir_thres)\n",
    "\n",
    "    # Create a binary image of 1s where criteria is met, otherwise 0s \n",
    "    combined = np.zeros_like(dir_binary)\n",
    "    # Gadients in x or y are met or the magnitue & direction are met\n",
    "    combined[\n",
    "        ((gradx == 1) & (grady == 1))# |  \n",
    "        #((mag_binary == 1) & (dir_binary == 1))\n",
    "    ] = 1\n",
    "    \n",
    "    return combined"
   ]
  },
  {
   "cell_type": "markdown",
   "metadata": {},
   "source": [
    "#### Test"
   ]
  },
  {
   "cell_type": "code",
   "execution_count": null,
   "metadata": {},
   "outputs": [],
   "source": [
    "# Test out the performance of the full binary threshold\n",
    "binary_imgs = [\n",
    "    (\n",
    "        fn,\n",
    "        full_binary_image(i,\n",
    "                          ksize=11,\n",
    "                          x_thres=(10,160), \n",
    "                          y_thres=(10,160),\n",
    "                          mag_thres=(40,100), # (30,100) might be better\n",
    "                          dir_thres=(np.pi/4, np.pi*2/5)\n",
    "        )\n",
    "    ) \n",
    "        for fn,i in test_images\n",
    "]\n",
    "\n",
    "display_images(binary_imgs, cols=4, cmap='gray')"
   ]
  },
  {
   "cell_type": "markdown",
   "metadata": {},
   "source": [
    "### Perspective Transform"
   ]
  },
  {
   "cell_type": "code",
   "execution_count": null,
   "metadata": {},
   "outputs": [],
   "source": [
    "def get_dst(img_size, offset):\n",
    "    '''\n",
    "    Return dst matrix by providing the image size `img_size` (2D) and the\n",
    "    `offset`.\n",
    "    '''\n",
    "    # Getting the image destination\n",
    "    # Bottom-Left, Top-Left, Top-Right, Bottom-Right\n",
    "    dst = np.float32([\n",
    "        [offset, img_size[1]],\n",
    "        [offset, 0],\n",
    "        [img_size[0]-offset, 0],\n",
    "        [img_size[0]-offset, img_size[1]]\n",
    "    ])\n",
    "    return dst\n",
    "    \n",
    "    \n",
    "def get_src_from_lines(lines):\n",
    "    '''\n",
    "    Return src matrix by providing the lines to transform the image with.\n",
    "    '''    \n",
    "    # Source from the lane guide lines\n",
    "    src = np.zeros(shape=(len(lines),2), dtype='float32')\n",
    "    for i,line_pts in enumerate(lines):\n",
    "        src[i,:] = line_pts\n",
    "    return src\n",
    "        \n",
    "def get_warp_matrix(src, dst):\n",
    "    '''\n",
    "    Return the warp matrix for a perspective transform by providing the source\n",
    "    and destination matrix\n",
    "    '''\n",
    "    return cv2.getPerspectiveTransform(src, dst)\n",
    "\n",
    "def warp_image(img, M):\n",
    "    '''\n",
    "    Return a warped perspective image by a provided perspective warp matrix M.\n",
    "    '''\n",
    "    # Shape is 2D since we don't care about color\n",
    "    img_size = img.shape[1], img.shape[0]\n",
    "    return cv2.warpPerspective(img, M, (img_size))"
   ]
  },
  {
   "cell_type": "code",
   "execution_count": null,
   "metadata": {
    "code_folding": []
   },
   "outputs": [],
   "source": [
    "def warp_from_lane_guides(img, lines, offset=200, \n",
    "                          line_color=(0,255,0), show=False):\n",
    "    '''\n",
    "    Return a perspective transform image based on the provided quadrilateral\n",
    "    representing lane lines in the original image.\n",
    "    \n",
    "    Note lines must go like [Bottom-Left, Top-Left, Top-Right, Bottom-Right].\n",
    "    '''    \n",
    "    copy = img.copy()\n",
    "\n",
    "    line_thickness = 2\n",
    "    # Create a line on image for each pair of points(that defines a line)\n",
    "    for pt0,pt1 in zip(lines, lines[1:]):\n",
    "        cv2.line(copy, pt0, pt1, line_color, line_thickness)\n",
    "\n",
    "    # Display the lane guides with original image\n",
    "    if show:\n",
    "        fig, ax = plt.subplots(figsize=(40, 20))\n",
    "        ax.imshow(copy)\n",
    "    \n",
    "    # Getting image and the relevant measurements\n",
    "    img_size = (img.shape[1], img.shape[0])\n",
    "    \n",
    "    # Getting the image destination & source (via lane lines)\n",
    "    # Bottom-Left, Top-Left, Top-Right, Bottom-Right\n",
    "    dst = get_dst(img_size, offset)\n",
    "    src = get_src_from_lines(lines)\n",
    " \n",
    "    # Unwarp the image\n",
    "    M = get_warp_matrix(src, dst)\n",
    "    Minv = get_warp_matrix(dst, src)\n",
    "    warped = warp_image(img, M)\n",
    "\n",
    "    if show:\n",
    "        fig, ax = plt.subplots(figsize=(40, 20))\n",
    "        ax.imshow(warped)\n",
    "    \n",
    "    return warped, Minv"
   ]
  },
  {
   "cell_type": "markdown",
   "metadata": {},
   "source": [
    "#### Test"
   ]
  },
  {
   "cell_type": "code",
   "execution_count": null,
   "metadata": {
    "code_folding": []
   },
   "outputs": [],
   "source": [
    "# Geetting a straight lines test (straight_lines1.jpg)\n",
    "undist = undist_imgs[5][1]"
   ]
  },
  {
   "cell_type": "code",
   "execution_count": null,
   "metadata": {},
   "outputs": [],
   "source": [
    "# Create guides for the typical lanes needed\n",
    "y_bottom = 720\n",
    "y_top = 455\n",
    "\n",
    "# Bottom-Left, Top-Left, Top-Right, Bottom-Right\n",
    "lines = [\n",
    "    (190, y_bottom), # bottom left\n",
    "    (585, y_top), # top left\n",
    "    (705, y_top), # top right\n",
    "    (1130, y_bottom) # bottom right\n",
    "]"
   ]
  },
  {
   "cell_type": "code",
   "execution_count": null,
   "metadata": {
    "scrolled": false
   },
   "outputs": [],
   "source": [
    "warped, _ = warp_from_lane_guides(undist, lines, show=True);"
   ]
  },
  {
   "cell_type": "markdown",
   "metadata": {},
   "source": [
    "### Identify Lane-Line Pixels"
   ]
  },
  {
   "cell_type": "code",
   "execution_count": null,
   "metadata": {
    "code_folding": [
     6,
     8,
     10,
     12,
     17
    ]
   },
   "outputs": [],
   "source": [
    "def find_lane_pixels(img, nwindows=9, margin=100, minpix=50):\n",
    "    '''\n",
    "    Read in an image and find the lane line locations with sliding window.\n",
    "    \n",
    "    Parameters\n",
    "    ----------\n",
    "    img : ndarray\n",
    "        Numpy array representing warped image to find lane lines\n",
    "    nwindows : int, optional\n",
    "        Number of sliding windows (default is 9)\n",
    "    margin : int, optional\n",
    "        Width of the windows +/- margin (default is 100)\n",
    "    minpix : int, optional\n",
    "        Minimum number of pixels found to recenter window (default is 50)\n",
    "\n",
    "    Returns\n",
    "    -------\n",
    "    tuple\n",
    "        Tuple of leftx, lefty, rightx, righty, out_img\n",
    "    \n",
    "    '''\n",
    "    \n",
    "    # Take a histogram of the bottom half of the image\n",
    "    histogram = np.sum(img[img.shape[0]//2:,:], axis=0)\n",
    "    # Create an output image to draw on and visualize the result\n",
    "    out_img = np.dstack((img, img, img))\n",
    "    # Find the peak of the left and right halves of the histogram\n",
    "    # These will be the starting point for the left and right lines\n",
    "    midpoint = np.int(histogram.shape[0]//2)\n",
    "    leftx_base = np.argmax(histogram[:midpoint])\n",
    "    rightx_base = np.argmax(histogram[midpoint:]) + midpoint\n",
    "\n",
    "    # HYPERPARAMETERS\n",
    "    # Choose the number of sliding windows\n",
    "    nwindows = 9\n",
    "    # Set the width of the windows +/- margin\n",
    "    margin = 100\n",
    "    # Set minimum number of pixels found to recenter window\n",
    "    minpix = 50\n",
    "\n",
    "    # Set height of windows - based on nwindows above and image shape\n",
    "    window_height = np.int(img.shape[0]//nwindows)\n",
    "    # Identify the x and y positions of all nonzero pixels in the image\n",
    "    nonzero = img.nonzero()\n",
    "    nonzeroy = np.array(nonzero[0])\n",
    "    nonzerox = np.array(nonzero[1])\n",
    "    # Current positions to be updated later for each window in nwindows\n",
    "    leftx_current = leftx_base\n",
    "    rightx_current = rightx_base\n",
    "\n",
    "    # Create empty lists to receive left and right lane pixel indices\n",
    "    left_lane_inds = []\n",
    "    right_lane_inds = []\n",
    "\n",
    "    # Step through the windows one by one\n",
    "    for window in range(nwindows):\n",
    "        # Identify window boundaries in x and y (and right and left)\n",
    "        win_y_low = img.shape[0] - (window+1)*window_height\n",
    "        win_y_high = img.shape[0] - window*window_height\n",
    "        win_xleft_low = leftx_current - margin\n",
    "        win_xleft_high = leftx_current + margin\n",
    "        win_xright_low = rightx_current - margin\n",
    "        win_xright_high = rightx_current + margin\n",
    "        \n",
    "        # Draw the windows on the visualization image\n",
    "        cv2.rectangle(out_img,(win_xleft_low,win_y_low),\n",
    "        (win_xleft_high,win_y_high),(0,255,0), 2) \n",
    "        cv2.rectangle(out_img,(win_xright_low,win_y_low),\n",
    "        (win_xright_high,win_y_high),(0,255,0), 2) \n",
    "        \n",
    "        # Identify the nonzero pixels in x and y within the window #\n",
    "        good_left_inds = ((nonzeroy >= win_y_low) & (nonzeroy < win_y_high) & \n",
    "        (nonzerox >= win_xleft_low) &  (nonzerox < win_xleft_high)).nonzero()[0]\n",
    "        good_right_inds = ((nonzeroy >= win_y_low) & (nonzeroy < win_y_high) & \n",
    "        (nonzerox >= win_xright_low) &  (nonzerox < win_xright_high)).nonzero()[0]\n",
    "        \n",
    "        # Append these indices to the lists\n",
    "        left_lane_inds.append(good_left_inds)\n",
    "        right_lane_inds.append(good_right_inds)\n",
    "        \n",
    "        # If you found > minpix pixels, recenter next window on their mean position\n",
    "        if len(good_left_inds) > minpix:\n",
    "            leftx_current = np.int(np.mean(nonzerox[good_left_inds]))\n",
    "        if len(good_right_inds) > minpix:        \n",
    "            rightx_current = np.int(np.mean(nonzerox[good_right_inds]))\n",
    "\n",
    "    # Concatenate the arrays of indices (previously was a list of lists of pixels)\n",
    "    left_lane_inds = np.concatenate(left_lane_inds)\n",
    "    right_lane_inds = np.concatenate(right_lane_inds)\n",
    "\n",
    "    # Extract left and right line pixel positions\n",
    "    leftx = nonzerox[left_lane_inds]\n",
    "    lefty = nonzeroy[left_lane_inds] \n",
    "    rightx = nonzerox[right_lane_inds]\n",
    "    righty = nonzeroy[right_lane_inds]\n",
    "\n",
    "    return leftx, lefty, rightx, righty, out_img\n",
    "\n",
    "def fit_polynomial(img):\n",
    "    '''\n",
    "    Read in an image and fits a polynomial for each lane line.\n",
    "    \n",
    "    Parameters\n",
    "    ----------\n",
    "    img : ndarray\n",
    "        Numpy array representing warped image to find lane lines\n",
    "    \n",
    "\n",
    "    Returns\n",
    "    -------\n",
    "    tuple\n",
    "        Tuple of out_img, left_fit, right_fit\n",
    "    '''\n",
    "    # Find our lane pixels first\n",
    "    leftx, lefty, rightx, righty, out_img = find_lane_pixels(img)\n",
    "\n",
    "    # Fit a second order polynomial to each using `np.polyfit`\n",
    "    left_fit = np.polyfit(lefty, leftx, 2)\n",
    "    right_fit = np.polyfit(righty, rightx, 2)\n",
    "\n",
    "    # Colors in the left and right lane regions\n",
    "    out_img[lefty, leftx] = [255, 0, 0] # Blue\n",
    "    out_img[righty, rightx] = [0, 0, 255] # Red\n",
    "\n",
    "    # Give out the image produced and the lane lines to plot\n",
    "    return out_img, left_fit, right_fit\n",
    "\n",
    "def get_2nd_order_poly_points(img, left_fit, right_fit):\n",
    "    '''\n",
    "    Produce the polynomial points for each lane to plot.\n",
    "    \n",
    "    Parameters\n",
    "    ----------\n",
    "    img : ndarray\n",
    "        Numpy array representing warped image to find lane lines\n",
    "    left_fit : ndarray\n",
    "        Numpy array representing polynomial for left lane line\n",
    "    right_fit : ndarray\n",
    "        Numpy array representing polynomial for right lane line\n",
    "    \n",
    "    \n",
    "    Returns\n",
    "    -------\n",
    "    tuple \n",
    "        Tuple of ploty, left_fitx, right_fitx\n",
    "    '''\n",
    "    # Generate x and y values for plotting\n",
    "    ploty = np.linspace(0, img.shape[0]-1, img.shape[0])\n",
    "    try:\n",
    "        left_fitx = left_fit[0]*ploty**2 + left_fit[1]*ploty + left_fit[2]\n",
    "        right_fitx = right_fit[0]*ploty**2 + right_fit[1]*ploty + right_fit[2]\n",
    "    except TypeError:\n",
    "        # Avoids an error if `left` and `right_fit` are still none or incorrect\n",
    "        print('The function failed to fit a line!')\n",
    "        left_fitx = 1*ploty**2 + 1*ploty\n",
    "        right_fitx = 1*ploty**2 + 1*ploty\n",
    "        \n",
    "    return ploty, left_fitx, right_fitx"
   ]
  },
  {
   "cell_type": "markdown",
   "metadata": {},
   "source": [
    "#### Test"
   ]
  },
  {
   "cell_type": "code",
   "execution_count": null,
   "metadata": {
    "code_folding": [],
    "scrolled": false
   },
   "outputs": [],
   "source": [
    "# Perform a test for images\n",
    "for i in range(8):\n",
    "    fig = plt.figure(figsize=(40,60))\n",
    "    ## Undistort image\n",
    "    img_undist = undist_imgs[i][1]\n",
    "\n",
    "    ## Create binary thresholds\n",
    "    img_binary = full_binary_image(\n",
    "                                img=img_undist,\n",
    "                                ksize=5,\n",
    "                                x_thres=(10,160), \n",
    "                                y_thres=(10,160),\n",
    "                                mag_thres=(40,100),\n",
    "                                dir_thres=(np.pi/4, np.pi*2/5)\n",
    "    )\n",
    "\n",
    "    ## Perspective transform\n",
    "    # Create guides for the typical lanes needed\n",
    "    y_bottom = 720\n",
    "    y_top = 455\n",
    "    # Bottom-Left, Top-Left, Top-Right, Bottom-Right\n",
    "    lane_lines = [\n",
    "        (190, y_bottom), # bottom left\n",
    "        (585, y_top), # top left\n",
    "        (705, y_top), # top right\n",
    "        (1130, y_bottom) # bottom right\n",
    "    ]\n",
    "\n",
    "    img_warped, Minv = warp_from_lane_guides(img_binary, lane_lines)\n",
    "\n",
    "    # Getting lane lines\n",
    "    img_lane_lines, left_fit, right_fit = fit_polynomial(img_warped)\n",
    "    ploty, left_fitx, right_fitx = get_2nd_order_poly_points(img_warped, left_fit, right_fit)\n",
    "\n",
    "    # Plot the undistorted and lane line mages\n",
    "    plt.title(undist_imgs[i][0])\n",
    "    plt.subplot(2,2,1)\n",
    "    plt.imshow(img_undist)\n",
    "    plt.subplot(2,2,2)\n",
    "    plt.imshow(img_lane_lines)\n",
    "    plt.plot(left_fitx, ploty, '--', color='yellow', linewidth=8)\n",
    "    plt.plot(right_fitx, ploty, '--', color='yellow', linewidth=8)\n",
    "    plt.show()\n"
   ]
  },
  {
   "cell_type": "markdown",
   "metadata": {},
   "source": [
    "### Radius of Curvature of Lane & Position of Vehicle w.r.t. Center"
   ]
  },
  {
   "cell_type": "code",
   "execution_count": null,
   "metadata": {
    "code_folding": [
     0
    ]
   },
   "outputs": [],
   "source": [
    "def measure_curvature_pixels(img, left_fit, right_fit):\n",
    "    '''\n",
    "    Calculates the curvature of polynomial functions in pixels.\n",
    "    '''\n",
    "    ploty = np.linspace(0, img.shape[0]-1, img.shape[0] )\n",
    "    # Define y-value where we want radius of curvature\n",
    "    # We'll choose the maximum y-value, corresponding to the bottom of the image\n",
    "    y_eval = np.max(ploty)\n",
    "    \n",
    "    # Calculation of R_curve (radius of curvature)\n",
    "    left_curverad = ((1 + (2*left_fit[0]*y_eval + left_fit[1])**2)**1.5) / np.absolute(2*left_fit[0])\n",
    "    right_curverad = ((1 + (2*right_fit[0]*y_eval + right_fit[1])**2)**1.5) / np.absolute(2*right_fit[0])\n",
    "    \n",
    "    return left_curverad, right_curverad\n",
    "\n",
    "def measure_curvature_real(img, left_fit_cr, right_fit_cr):\n",
    "    '''\n",
    "    Calculates the curvature of polynomial functions in meters.\n",
    "    '''\n",
    "    # Define conversions in x and y from pixels space to meters\n",
    "    ym_per_pix = 30/720 # meters per pixel in y dimension\n",
    "    xm_per_pix = 3.7/700 # meters per pixel in x dimension\n",
    "    \n",
    "    \n",
    "    # Define y-value where we want radius of curvature\n",
    "    # We'll choose the maximum y-value, corresponding to the bottom of the image\n",
    "    y_eval = np.max(ploty)\n",
    "    \n",
    "    # Calculation of R_curve (radius of curvature)\n",
    "    left_curverad = ((1 + (2*left_fit_cr[0]*y_eval*ym_per_pix + left_fit_cr[1])**2)**1.5) / np.absolute(2*left_fit_cr[0])\n",
    "    right_curverad = ((1 + (2*right_fit_cr[0]*y_eval*ym_per_pix + right_fit_cr[1])**2)**1.5) / np.absolute(2*right_fit_cr[0])\n",
    "    \n",
    "    return left_curverad, right_curverad\n",
    "\n",
    "def measure_vehicle_from_center(img, left_fit_cr, right_fit_cr):\n",
    "    '''\n",
    "    Calculates vehicle position from center of the lanes based on found\n",
    "    curvature (in meters). Note a negative value is left of the center, and a\n",
    "    positive value is right of the center.\n",
    "    '''\n",
    "    # Define conversions in x and y from pixels space to meters\n",
    "    ym_per_pix = 30/720 # meters per pixel in y dimension\n",
    "    xm_per_pix = 3.7/700 # meters per pixel in x dimension\n",
    "    \n",
    "    # Calculate vehicle center\n",
    "    xMax = img.shape[1]\n",
    "    yMax = img.shape[0]\n",
    "    vehicle_center = xMax / 2\n",
    "    # Use previous results to find start of lanes along x-axis\n",
    "    line_left = (left_fit_cr[0]*yMax)**2 + left_fit_cr[1]*yMax + left_fit_cr[2]\n",
    "    line_right = (right_fit_cr[0]*yMax)**2 + right_fit_cr[1]*yMax + right_fit_cr[2]\n",
    "    # Find pixel position for center of lanes.\n",
    "    line_middle = (line_right - line_left)/2 + line_left\n",
    "\n",
    "    # Convert to distance (from pixels)\n",
    "    vehicle_dist_from_center = vehicle_center - line_middle\n",
    "    return vehicle_dist_from_center * xm_per_pix"
   ]
  },
  {
   "cell_type": "markdown",
   "metadata": {},
   "source": [
    "#### Test"
   ]
  },
  {
   "cell_type": "code",
   "execution_count": null,
   "metadata": {
    "code_folding": [],
    "scrolled": true
   },
   "outputs": [],
   "source": [
    "i = 0\n",
    "for i in range(8):\n",
    "    fig = plt.figure(figsize=(10,20))\n",
    "    ## Undistort image\n",
    "    img_undist = undist_imgs[i][1]\n",
    "\n",
    "    ## Create binary thresholds\n",
    "    img_binary = full_binary_image(\n",
    "                                img=img_undist,\n",
    "                                ksize=5,\n",
    "                                x_thres=(10,160), \n",
    "                                y_thres=(10,160),\n",
    "                                mag_thres=(40,100),\n",
    "                                dir_thres=(np.pi/4, np.pi*2/5)\n",
    "    )\n",
    "\n",
    "    ## Perspective transform\n",
    "    # Create guides for the typical lanes needed\n",
    "    y_bottom = 720\n",
    "    y_top = 455\n",
    "\n",
    "    # Bottom-Left, Top-Left, Top-Right, Bottom-Right\n",
    "    lane_lines = [\n",
    "        (190, y_bottom), # bottom left\n",
    "        (585, y_top), # top left\n",
    "        (705, y_top), # top right\n",
    "        (1130, y_bottom) # bottom right\n",
    "    ]\n",
    "\n",
    "    img_warped, Minv = warp_from_lane_guides(img_binary, lane_lines)\n",
    "\n",
    "    # Getting lane lines  \n",
    "    img_lane_lines, left_fit, right_fit = fit_polynomial(img_warped)\n",
    "\n",
    "    # Calculate the radius of curvature in pixels for both lane lines\n",
    "    left_curverad, right_curverad = measure_curvature_pixels(img_warped, left_fit, right_fit)\n",
    "\n",
    "    print(left_curverad, right_curverad)\n",
    "\n",
    "    # Calculate the radius of curvature in meters for both lane lines\n",
    "    left_curverad, right_curverad = measure_curvature_real(img_warped,left_fit,right_fit)\n",
    "\n",
    "    print(left_curverad, 'm', right_curverad, 'm')\n",
    "    # \n",
    "    print('Distance right from the of center of the lane',\n",
    "          measure_vehicle_from_center(img_warped,left_fit,right_fit),\n",
    "          'm'\n",
    "    )\n",
    "\n",
    "    plt.imshow(img_undist)\n",
    "    plt.show()"
   ]
  },
  {
   "cell_type": "markdown",
   "metadata": {},
   "source": [
    "### Annotate Image"
   ]
  },
  {
   "cell_type": "code",
   "execution_count": null,
   "metadata": {},
   "outputs": [],
   "source": [
    "def annotate_img(orig_img, warped_img, Minv, left_fitx, right_fitx, ploty):\n",
    "    '''\n",
    "    Return an annotated original image with lanes identified.\n",
    "    '''\n",
    "    \n",
    "    # Create an image to draw the lines on\n",
    "    warp_zero = np.zeros_like(warped_img).astype(np.uint8)\n",
    "    color_warp = np.dstack((warp_zero, warp_zero, warp_zero))\n",
    "\n",
    "    # Recast the x and y points into usable format for cv2.fillPoly()\n",
    "    pts_left = np.array([np.transpose(np.vstack([left_fitx, ploty]))])\n",
    "    pts_right = np.array([np.flipud(np.transpose(np.vstack([right_fitx, ploty])))])\n",
    "    pts = np.hstack((pts_left, pts_right))\n",
    "\n",
    "    # Draw the lane onto the warped blank image\n",
    "    cv2.fillPoly(color_warp, np.int_([pts]), (0,255,0))\n",
    "\n",
    "    # Warp the blank back to original image space using inverse perspective matrix (Minv)\n",
    "    newwarp = cv2.warpPerspective(color_warp, Minv, (warped_img.shape[1], warped_img.shape[0])) \n",
    "    # Combine the result with the original image\n",
    "    result = cv2.addWeighted(orig_img, 1, newwarp, 0.3, 0)\n",
    "    \n",
    "    # Add curvature information\n",
    "    img_lane_lines, left_fit, right_fit = fit_polynomial(warped_img)\n",
    "    left_curverad, right_curverad = measure_curvature_pixels(warped_img, left_fit, right_fit)\n",
    "    dist_from_center = measure_vehicle_from_center(warped_img, left_fit, right_fit)\n",
    "    # Message shows either left or right of center\n",
    "    curvature_message = (f'{dist_from_center:.2f}m right of center'\n",
    "                                if dist_from_center > 0\n",
    "                                else f'{-dist_from_center:.2f}m left of center'\n",
    "                        )\n",
    "\n",
    "    # Draw info\n",
    "    font = cv2.FONT_HERSHEY_DUPLEX\n",
    "    fontColor = (255, 255, 255)\n",
    "    cv2.putText(result, 'Left curvature: {:.0f} m'.format(left_curverad), (30, 50), font, 1, fontColor, 2)\n",
    "    cv2.putText(result, 'Right curvature: {:.0f} m'.format(right_curverad), (30, 80), font, 1, fontColor, 2)\n",
    "    cv2.putText(result, 'Vehicle is {} of center'.format(curvature_message), (30, 110), font, 1, fontColor, 2)\n",
    "    \n",
    "    return result"
   ]
  },
  {
   "cell_type": "code",
   "execution_count": null,
   "metadata": {
    "code_folding": [],
    "scrolled": false
   },
   "outputs": [],
   "source": [
    "# Perform a test for images\n",
    "for i in range(8):\n",
    "    fig = plt.figure(figsize=(40,60))\n",
    "    ## Undistort image\n",
    "    img_undist = undist_imgs[i][1]\n",
    "\n",
    "    ## Create binary thresholds\n",
    "    img_binary = full_binary_image(\n",
    "                                img=img_undist,\n",
    "                                ksize=5,\n",
    "                                x_thres=(10,160), \n",
    "                                y_thres=(10,160),\n",
    "                                mag_thres=(40,100),\n",
    "                                dir_thres=(np.pi/4, np.pi*2/5)\n",
    "    )\n",
    "\n",
    "    ## Perspective transform\n",
    "    # Create guides for the typical lanes needed\n",
    "    y_bottom = 720\n",
    "    y_top = 455\n",
    "    # Bottom-Left, Top-Left, Top-Right, Bottom-Right\n",
    "    lane_lines = [\n",
    "        (190, y_bottom), # bottom left\n",
    "        (585, y_top), # top left\n",
    "        (705, y_top), # top right\n",
    "        (1130, y_bottom) # bottom right\n",
    "    ]\n",
    "\n",
    "    img_warped, Minv = warp_from_lane_guides(img_binary, lane_lines)\n",
    "\n",
    "    # Getting lane lines\n",
    "    img_lane_lines, left_fit, right_fit = fit_polynomial(img_warped)\n",
    "    ploty, left_fitx, right_fitx = get_2nd_order_poly_points(img_warped, left_fit, right_fit)\n",
    "\n",
    "    result = annotate_img(img_undist, img_warped, Minv, left_fitx, right_fitx, ploty)\n",
    "\n",
    "    plt.imshow(result)\n",
    "    plt.show()"
   ]
  },
  {
   "cell_type": "markdown",
   "metadata": {},
   "source": [
    "## Main Pipeline"
   ]
  },
  {
   "cell_type": "code",
   "execution_count": null,
   "metadata": {
    "code_folding": []
   },
   "outputs": [],
   "source": [
    "def lane_line_pipeline(img, mtx, dist):\n",
    "    '''\n",
    "    '''\n",
    "    ## Undistort image\n",
    "    img_undist = undistort_image(img, mtx, dist)\n",
    "    \n",
    "    ## Create binary thresholds\n",
    "    img_binary = full_binary_image(\n",
    "                                img=img_undist,\n",
    "                                ksize=5,\n",
    "                                x_thres=(10,160), \n",
    "                                y_thres=(10,160),\n",
    "                                mag_thres=(40,100),\n",
    "                                dir_thres=(np.pi/4, np.pi*2/5)\n",
    "    )\n",
    "    \n",
    "    ## Perspective transform\n",
    "    # Create guides for the typical lanes needed\n",
    "    y_bottom = img_undist.shape[0]\n",
    "    y_top = int(455/720 * img_undist.shape[0])\n",
    "    # Bottom-Left, Top-Left, Top-Right, Bottom-Right\n",
    "    lane_lines = [\n",
    "        (int(190/1280*img_undist.shape[1]), y_bottom), # bottom left\n",
    "        (int(585/1280*img_undist.shape[1]), y_top), # top left\n",
    "        (int(705/1280*img_undist.shape[1]), y_top), # top right\n",
    "        (int(1130/1280*img_undist.shape[1]), y_bottom) # bottom right\n",
    "    ]\n",
    "    # TODO: Don't re-calculate the warp matrix each time\n",
    "    img_warped, Minv = warp_from_lane_guides(img_binary, lane_lines)\n",
    "    \n",
    "    ## Identify lane-line pixels\n",
    "    # Draw lane lines onto image\n",
    "    img_lane_lines, left_fit, right_fit = fit_polynomial(img_warped)\n",
    "    ploty, left_fitx, right_fitx = get_2nd_order_poly_points(img_warped, left_fit, right_fit)\n",
    "    \n",
    "    ## Final image transformation (w/radius of curvature & position)\n",
    "    img_final = annotate_img(img_undist, img_warped, Minv, left_fitx, right_fitx, ploty)\n",
    "    \n",
    "    return img_final"
   ]
  },
  {
   "cell_type": "markdown",
   "metadata": {},
   "source": [
    "## Apply pipeline to images"
   ]
  },
  {
   "cell_type": "code",
   "execution_count": null,
   "metadata": {},
   "outputs": [],
   "source": [
    "# Read in files to convert\n",
    "test_image_fnames = glob.glob('test_images/advance/*.jpg')\n",
    "test_images = [read_image_from_file(img, convert=cv2.COLOR_BGR2RGB) \n",
    "                   for img in test_image_fnames]"
   ]
  },
  {
   "cell_type": "code",
   "execution_count": null,
   "metadata": {},
   "outputs": [],
   "source": [
    "# Load camera calibration matrices from earlier\n",
    "cameraCalibration = pickle.load(open('camera_cal/calibration_matrices.pickle', 'rb'))\n",
    "mtx, dist = map(cameraCalibration.get, ('mtx', 'dist'))"
   ]
  },
  {
   "cell_type": "code",
   "execution_count": null,
   "metadata": {
    "scrolled": false
   },
   "outputs": [],
   "source": [
    "images = [(img_fn,lane_line_pipeline(img, mtx, dist)) for img_fn,img in test_images]\n",
    "\n",
    "display_images(images, cols=4, figsize=(24,8))"
   ]
  },
  {
   "cell_type": "markdown",
   "metadata": {},
   "source": [
    "# Applying Pipeline to Video"
   ]
  },
  {
   "cell_type": "code",
   "execution_count": null,
   "metadata": {
    "code_folding": []
   },
   "outputs": [],
   "source": [
    "from moviepy.editor import VideoFileClip\n",
    "    \n",
    "def create_video(input_video_fname, output_video_fname='out.mp4'):\n",
    "    '''\n",
    "    Creates an annotated video by processing each frame of original video.\n",
    "    ''' \n",
    "    myclip = VideoFileClip(input_video_fname)\n",
    "\n",
    "    clip = myclip.fl_image(lambda img: lane_line_pipeline(img,mtx,dist))\n",
    "    clip.write_videofile(output_video_fname, audio=False)   "
   ]
  },
  {
   "cell_type": "code",
   "execution_count": null,
   "metadata": {
    "scrolled": true
   },
   "outputs": [],
   "source": [
    "videos = glob.glob('test_videos/basic/challenge.mp4')\n",
    "for v_name in videos:\n",
    "    out_name = v_name.split('/')[-1]\n",
    "    create_video(v_name, f'out_{out_name}')"
   ]
  }
 ],
 "metadata": {
  "kernelspec": {
   "display_name": "Python 3",
   "language": "python",
   "name": "python3"
  },
  "language_info": {
   "codemirror_mode": {
    "name": "ipython",
    "version": 3
   },
   "file_extension": ".py",
   "mimetype": "text/x-python",
   "name": "python",
   "nbconvert_exporter": "python",
   "pygments_lexer": "ipython3",
   "version": "3.7.1"
  },
  "toc": {
   "base_numbering": 1,
   "nav_menu": {},
   "number_sections": true,
   "sideBar": true,
   "skip_h1_title": false,
   "title_cell": "Table of Contents",
   "title_sidebar": "Contents",
   "toc_cell": true,
   "toc_position": {},
   "toc_section_display": true,
   "toc_window_display": true
  },
  "varInspector": {
   "cols": {
    "lenName": 16,
    "lenType": 16,
    "lenVar": 40
   },
   "kernels_config": {
    "python": {
     "delete_cmd_postfix": "",
     "delete_cmd_prefix": "del ",
     "library": "var_list.py",
     "varRefreshCmd": "print(var_dic_list())"
    },
    "r": {
     "delete_cmd_postfix": ") ",
     "delete_cmd_prefix": "rm(",
     "library": "var_list.r",
     "varRefreshCmd": "cat(var_dic_list()) "
    }
   },
   "types_to_exclude": [
    "module",
    "function",
    "builtin_function_or_method",
    "instance",
    "_Feature"
   ],
   "window_display": false
  }
 },
 "nbformat": 4,
 "nbformat_minor": 2
}
