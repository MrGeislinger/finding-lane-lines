{
 "cells": [
  {
   "cell_type": "markdown",
   "metadata": {
    "toc": true
   },
   "source": [
    "<h1>Table of Contents<span class=\"tocSkip\"></span></h1>\n",
    "<div class=\"toc\"><ul class=\"toc-item\"><li><span><a href=\"#Camera-Calibration\" data-toc-modified-id=\"Camera-Calibration-1\"><span class=\"toc-item-num\">1&nbsp;&nbsp;</span>Camera Calibration</a></span></li><li><span><a href=\"#Pipeline\" data-toc-modified-id=\"Pipeline-2\"><span class=\"toc-item-num\">2&nbsp;&nbsp;</span>Pipeline</a></span><ul class=\"toc-item\"><li><span><a href=\"#Helper-Functions\" data-toc-modified-id=\"Helper-Functions-2.1\"><span class=\"toc-item-num\">2.1&nbsp;&nbsp;</span>Helper Functions</a></span></li><li><span><a href=\"#Testing-Ground-for-Pipeline\" data-toc-modified-id=\"Testing-Ground-for-Pipeline-2.2\"><span class=\"toc-item-num\">2.2&nbsp;&nbsp;</span>Testing Ground for Pipeline</a></span><ul class=\"toc-item\"><li><span><a href=\"#Undistort\" data-toc-modified-id=\"Undistort-2.2.1\"><span class=\"toc-item-num\">2.2.1&nbsp;&nbsp;</span>Undistort</a></span></li><li><span><a href=\"#Binary-Image-Thresholded\" data-toc-modified-id=\"Binary-Image-Thresholded-2.2.2\"><span class=\"toc-item-num\">2.2.2&nbsp;&nbsp;</span>Binary Image Thresholded</a></span></li><li><span><a href=\"#Perspective-Transform\" data-toc-modified-id=\"Perspective-Transform-2.2.3\"><span class=\"toc-item-num\">2.2.3&nbsp;&nbsp;</span>Perspective Transform</a></span><ul class=\"toc-item\"><li><span><a href=\"#A-Test\" data-toc-modified-id=\"A-Test-2.2.3.1\"><span class=\"toc-item-num\">2.2.3.1&nbsp;&nbsp;</span>A Test</a></span></li></ul></li><li><span><a href=\"#Identify-Lane-Line-Pixels\" data-toc-modified-id=\"Identify-Lane-Line-Pixels-2.2.4\"><span class=\"toc-item-num\">2.2.4&nbsp;&nbsp;</span>Identify Lane-Line Pixels</a></span></li><li><span><a href=\"#Radius-of-Curvature-of-Lane-&amp;-Position-of-Vehicle-w.r.t.-Center\" data-toc-modified-id=\"Radius-of-Curvature-of-Lane-&amp;-Position-of-Vehicle-w.r.t.-Center-2.2.5\"><span class=\"toc-item-num\">2.2.5&nbsp;&nbsp;</span>Radius of Curvature of Lane &amp; Position of Vehicle w.r.t. Center</a></span></li></ul></li><li><span><a href=\"#Main-Pipeline\" data-toc-modified-id=\"Main-Pipeline-2.3\"><span class=\"toc-item-num\">2.3&nbsp;&nbsp;</span>Main Pipeline</a></span></li></ul></li></ul></div>"
   ]
  },
  {
   "cell_type": "code",
   "execution_count": null,
   "metadata": {},
   "outputs": [],
   "source": [
    "import cv2\n",
    "import glob\n",
    "import numpy as np\n",
    "import matplotlib.pyplot as plt\n",
    "import matplotlib.image as mpimg\n",
    "import pickle\n",
    "import math\n",
    "%matplotlib inline"
   ]
  },
  {
   "cell_type": "markdown",
   "metadata": {
    "heading_collapsed": true
   },
   "source": [
    "# Camera Calibration"
   ]
  },
  {
   "cell_type": "markdown",
   "metadata": {
    "hidden": true
   },
   "source": [
    "* Find camera matrix & distortion coefficients\n",
    "* Demonstrate undistorting calibration image\n"
   ]
  },
  {
   "cell_type": "code",
   "execution_count": null,
   "metadata": {
    "code_folding": [
     0
    ],
    "hidden": true
   },
   "outputs": [],
   "source": [
    "def calibration_undistort(images):\n",
    "    '''\n",
    "    Use images to calculate the camera calibration & image distortion matrices\n",
    "    '''\n",
    "    # Object points follow a grid, like (0,0,0), (1,0,0), (2,0,0)...\n",
    "    objp = np.zeros((9*6,3), np.float32)\n",
    "    objp[:,:2] = np.mgrid[0:9,0:6].T.reshape(-1,2)\n",
    "\n",
    "    # Arrays to store object points and image points from all the images.\n",
    "    objpts = [] # 3d points in real world space\n",
    "    imgpts = [] # 2d points in image plane.\n",
    "\n",
    "    # Step through the list and search for chessboard corners\n",
    "    for fname in images:\n",
    "        # Read in each image\n",
    "        img = cv2.imread(fname)\n",
    "\n",
    "        # Find the chessboard corners\n",
    "        gray = cv2.cvtColor(img,cv2.COLOR_BGR2GRAY)\n",
    "        ret, corners = cv2.findChessboardCorners(gray, (9,6),None)\n",
    "\n",
    "        # Add object points & image points if found\n",
    "        if ret == True:\n",
    "            objpts.append(objp)\n",
    "            imgpts.append(corners)\n",
    "     \n",
    "    # Create matrix using all the images (with corners found)\n",
    "    # ret, mtx, dist, rvecs, tvecs\n",
    "    _, mtx, dist, _, _ = cv2.calibrateCamera(objpts, imgpts, img.shape[1:], None, None)\n",
    "    return (mtx, dist)"
   ]
  },
  {
   "cell_type": "code",
   "execution_count": null,
   "metadata": {
    "hidden": true
   },
   "outputs": [],
   "source": [
    "# Load all the images & use them to the matrices \n",
    "images = glob.glob('camera_cal/calibration*.jpg')\n",
    "mtx, dist = calibration_undistort(images)"
   ]
  },
  {
   "cell_type": "code",
   "execution_count": null,
   "metadata": {
    "code_folding": [],
    "hidden": true,
    "scrolled": true
   },
   "outputs": [],
   "source": [
    "# TEST: Plot out each image undistorted \n",
    "images = glob.glob('camera_cal/calibration*.jpg')\n",
    "for fname in images:\n",
    "    # Undistort the image\n",
    "    img = cv2.imread(fname)\n",
    "    undist = cv2.undistort(img, mtx, dist, None, mtx)\n",
    "    \n",
    "    # Plotting side-by-side\n",
    "    f, (ax1, ax2) = plt.subplots(1, 2, figsize=(24, 9))\n",
    "    f.tight_layout()\n",
    "    ax1.imshow(img)\n",
    "    ax1.set_title('Original Image', fontsize=50)\n",
    "    ax2.imshow(undist)\n",
    "    ax2.set_title('Undistorted and Warped Image', fontsize=50)\n",
    "    plt.subplots_adjust(left=0., right=1, top=0.9, bottom=0.)"
   ]
  },
  {
   "cell_type": "code",
   "execution_count": null,
   "metadata": {
    "hidden": true
   },
   "outputs": [],
   "source": [
    "# Save the calibration for later use\n",
    "pickle.dump({'mtx': mtx, 'dist': dist}, \n",
    "            open('camera_cal/calibration_matrices.pickle', 'wb')\n",
    ")"
   ]
  },
  {
   "cell_type": "markdown",
   "metadata": {
    "heading_collapsed": true
   },
   "source": [
    "# Pipeline"
   ]
  },
  {
   "cell_type": "markdown",
   "metadata": {
    "hidden": true
   },
   "source": [
    "For all images:\n",
    "\n",
    "* Distortion correction image\n",
    "* Create a thresholded binary image\n",
    "    - Color transforms, gradients or other methods\n",
    "* Perspective transform (\"birds-eye view\")\n",
    "* Identify lane-line pixels and fit their positions with a polynomial\n",
    "* Calculate radius of curvature of lane & position of vehicle with respect to center\n",
    "* Result plotted down onto the road so lane area is identified clearly\n"
   ]
  },
  {
   "cell_type": "markdown",
   "metadata": {
    "heading_collapsed": true,
    "hidden": true
   },
   "source": [
    "## Helper Functions"
   ]
  },
  {
   "cell_type": "code",
   "execution_count": null,
   "metadata": {
    "hidden": true
   },
   "outputs": [],
   "source": [
    "def read_image_from_file(img_filepath, convert=None):\n",
    "    '''\n",
    "    Returns the filename/filepath & image (numpy matrix) from given file path.\n",
    "    '''\n",
    "    img = cv2.imread(img_filepath)\n",
    "    \n",
    "    # Allow for color conversion\n",
    "    if convert:\n",
    "        img = cv2.cvtColor(img, convert)\n",
    "        \n",
    "    return (img_filepath, img)\n",
    "\n",
    "def display_images(fnames_and_imgs, figsize=(24,8), cols=3, rows=None, cmap=None, convert=None):\n",
    "    '''\n",
    "    Display images given a list of images to display. If `rows` is `None`, \n",
    "    rows will be calculated given the number of columns `cols`\n",
    "    '''\n",
    "    \n",
    "    # Getting the size to plot; enough rows to fit column\n",
    "    if not rows:\n",
    "        rows = math.ceil(len(fnames_and_imgs)/cols)\n",
    "    elif rows*cols < len(fnames_and_imgs):\n",
    "        print(f'Note: not all images will be displayed')\n",
    "        print(f'{len(fnames_and_imgs)} images, but only {rows*cols} will be displayed')\n",
    "    f, axs = plt.subplots(rows, cols, figsize=figsize)\n",
    "    \n",
    "    \n",
    "    # Iterate over each axis to display the image\n",
    "    for ax, fname_imgs_tuple in zip(axs.flat, fnames_and_imgs):\n",
    "        fname, img = fname_imgs_tuple\n",
    "        # Allow for color conversion\n",
    "        if convert:\n",
    "            img = cv2.cvtColor(img, convert)\n",
    "        ax.set_title(fname)\n",
    "        ax.imshow(img, cmap=cmap)\n",
    "    "
   ]
  },
  {
   "cell_type": "markdown",
   "metadata": {
    "heading_collapsed": true,
    "hidden": true
   },
   "source": [
    "## Testing Ground for Pipeline"
   ]
  },
  {
   "cell_type": "code",
   "execution_count": null,
   "metadata": {
    "hidden": true
   },
   "outputs": [],
   "source": [
    "# Load camera calibration matrices from earlier\n",
    "cameraCalibration = pickle.load( open('camera_cal/calibration_matrices.pickle', 'rb' ) )\n",
    "mtx, dist = map(cameraCalibration.get, ('mtx', 'dist'))"
   ]
  },
  {
   "cell_type": "code",
   "execution_count": null,
   "metadata": {
    "hidden": true,
    "scrolled": true
   },
   "outputs": [],
   "source": [
    "# Read in files to convert\n",
    "test_image_fnames = glob.glob('test_images/advance/*.jpg')\n",
    "test_images = [read_image_from_file(img, convert=cv2.COLOR_BGR2RGB) \n",
    "                   for img in test_image_fnames]\n",
    "\n",
    "# Display the unmodified images\n",
    "display_images(test_images, cols=4, figsize=(24,8))"
   ]
  },
  {
   "cell_type": "markdown",
   "metadata": {
    "heading_collapsed": true,
    "hidden": true
   },
   "source": [
    "### Undistort"
   ]
  },
  {
   "cell_type": "code",
   "execution_count": null,
   "metadata": {
    "hidden": true
   },
   "outputs": [],
   "source": [
    "# Distortion correction\n",
    "def undistort_image(img, mtx, dist):\n",
    "    '''\n",
    "    Undistort a given image using `mtx` & `dist` matrices.\n",
    "    '''\n",
    "    undist_img = cv2.undistort(img, mtx, dist, None, mtx)\n",
    "    return undist_img"
   ]
  },
  {
   "cell_type": "code",
   "execution_count": null,
   "metadata": {
    "hidden": true
   },
   "outputs": [],
   "source": [
    "# Test undistortion\n",
    "undist_imgs = [(fn,undistort_image(i,mtx,dist)) for fn,i in test_images]\n",
    "display_images(undist_imgs, cols=4)"
   ]
  },
  {
   "cell_type": "markdown",
   "metadata": {
    "heading_collapsed": true,
    "hidden": true
   },
   "source": [
    "### Binary Image Thresholded"
   ]
  },
  {
   "cell_type": "code",
   "execution_count": null,
   "metadata": {
    "code_folding": [
     0,
     25,
     52
    ],
    "hidden": true
   },
   "outputs": [],
   "source": [
    "def abs_sobel_thresh(img, orient='x', ksize=3, thresholds=(0,255)):\n",
    "    '''\n",
    "    Using OpenCV Sobel() function, get the absolute value of the x or y \n",
    "    gradient to produce a binary image based on the kernel size and the\n",
    "    given thresholds.\n",
    "    '''\n",
    "    gray = cv2.cvtColor(img, cv2.COLOR_RGB2GRAY)\n",
    "    \n",
    "    # Take the absolute value of x or y gradient using OpenCV Sobel() function \n",
    "    if orient == 'x':\n",
    "        abs_sobel = np.absolute(cv2.Sobel(gray, cv2.CV_64F, 1, 0, ksize=ksize))\n",
    "    elif orient == 'y':\n",
    "        abs_sobel = np.absolute(cv2.Sobel(gray, cv2.CV_64F, 0, 1, ksize=ksize))\n",
    "    \n",
    "    # Rescale back to 8 bit integer\n",
    "    scaled_sobel = np.uint8(255*abs_sobel/np.max(abs_sobel))\n",
    "    \n",
    "    # Create a binary image of 1s where threshold is met, otherwise 0s\n",
    "    binary_out = np.zeros_like(scaled_sobel)\n",
    "    thresh_min, thresh_max = thresholds\n",
    "    binary_out[(scaled_sobel > thresh_min) & (scaled_sobel < thresh_max)] = 1\n",
    "\n",
    "    # Return the binary image\n",
    "    return binary_out\n",
    "\n",
    "def mag_thresh(img, sobel_ksize=3, thresholds=(0,255)):\n",
    "    '''\n",
    "    Using OpenCV Sobel() function, get the gradient magnitude of the x and y \n",
    "    gradients to produce a binary image based on the kernel size and the\n",
    "    given thresholds.\n",
    "    '''\n",
    "    gray = cv2.cvtColor(img, cv2.COLOR_RGB2GRAY)\n",
    "    \n",
    "    # Calculate the x and y gradients\n",
    "    sobelx = cv2.Sobel(gray, cv2.CV_64F, 1, 0, ksize=sobel_ksize)\n",
    "    sobely = cv2.Sobel(gray, cv2.CV_64F, 0, 1, ksize=sobel_ksize)\n",
    "    \n",
    "    # Calculate the gradient magnitude\n",
    "    gradmag = np.sqrt(sobelx**2 + sobely**2)\n",
    "    \n",
    "    # Rescale to 8 bit\n",
    "    scale_factor = np.max(gradmag)/255 \n",
    "    gradmag = (gradmag/scale_factor).astype(np.uint8) \n",
    "    \n",
    "    # Create a binary image of 1s where threshold is met, otherwise 0s\n",
    "    binary_out = np.zeros_like(gradmag)\n",
    "    thresh_min, thresh_max = thresholds\n",
    "    binary_out[(gradmag > thresh_min) & (gradmag < thresh_max)] = 1\n",
    "\n",
    "    # Return the binary image\n",
    "    return binary_out\n",
    "\n",
    "def dir_threshold(img, sobel_ksize=3, thresholds=(0,np.pi/2)):\n",
    "    '''\n",
    "    Using OpenCV Sobel() function, get the gradient direction of the x and y \n",
    "    gradients to produce a binary image based on the kernel size and the\n",
    "    given thresholds.    \n",
    "    '''\n",
    "    gray = cv2.cvtColor(img, cv2.COLOR_RGB2GRAY)\n",
    "    \n",
    "    # Calculate the x and y gradients\n",
    "    sobelx = cv2.Sobel(gray, cv2.CV_64F, 1, 0, ksize=sobel_ksize)\n",
    "    sobely = cv2.Sobel(gray, cv2.CV_64F, 0, 1, ksize=sobel_ksize)\n",
    "    \n",
    "    # Calculate absolute value of the gradient direction, \n",
    "    absgraddir = np.arctan2(np.absolute(sobely), np.absolute(sobelx))\n",
    "    \n",
    "    # Create a binary image of 1s where threshold is met, otherwise 0s \n",
    "    binary_out =  np.zeros_like(absgraddir)\n",
    "    thresh_min, thresh_max = thresholds\n",
    "    binary_out[(absgraddir > thresh_min) & (absgraddir < thresh_max)] = 1\n",
    "\n",
    "    # Return the binary image\n",
    "    return binary_out"
   ]
  },
  {
   "cell_type": "code",
   "execution_count": null,
   "metadata": {
    "code_folding": [],
    "hidden": true
   },
   "outputs": [],
   "source": [
    "def full_binary_image(img, ksize=3, x_thres=(30,100), y_thres=(30,100), \n",
    "                      mag_thres=(30,100), dir_thres=(0,np.pi/2)):\n",
    "    '''\n",
    "    Using OpenCV Sobel() function, get the gradient direction of the x and y \n",
    "    gradients to produce a binary image based on the kernel size and the\n",
    "    given thresholds.   \n",
    "    '''\n",
    "    # Apply each of the thresholding functions\n",
    "    gradx = abs_sobel_thresh(img, orient='x', ksize=ksize, thresholds=x_thres)\n",
    "    grady = abs_sobel_thresh(img, orient='y', ksize=ksize, thresholds=y_thres)\n",
    "    mag_binary = mag_thresh(img, sobel_ksize=ksize, thresholds=mag_thres)\n",
    "    dir_binary = dir_threshold(img, sobel_ksize=ksize, thresholds=dir_thres)\n",
    "\n",
    "    # Create a binary image of 1s where criteria is met, otherwise 0s \n",
    "    combined = np.zeros_like(dir_binary)\n",
    "    # Gadients in x or y are met or the magnitue & direction are met\n",
    "    combined[\n",
    "        ((gradx == 1) & (grady == 1)) |  \n",
    "        ((mag_binary == 1) & (dir_binary == 1))\n",
    "    ] = 1\n",
    "    \n",
    "    return combined"
   ]
  },
  {
   "cell_type": "code",
   "execution_count": null,
   "metadata": {
    "hidden": true
   },
   "outputs": [],
   "source": [
    "# Test out the performance of the full binary threshold\n",
    "binary_imgs = [\n",
    "    (\n",
    "        fn,\n",
    "        full_binary_image(i,\n",
    "                          ksize=11,\n",
    "                          x_thres=(30,100), \n",
    "                          y_thres=(30,100),\n",
    "                          mag_thres=(40,100), # (30,100) might be better\n",
    "                          dir_thres=(np.pi/4, np.pi*2/5)\n",
    "#                           dir_thres=(np.pi/6, np.pi*5/6)\n",
    "        )\n",
    "    ) \n",
    "        for fn,i in test_images\n",
    "]\n",
    "\n",
    "display_images(binary_imgs, cols=4, cmap='gray')"
   ]
  },
  {
   "cell_type": "code",
   "execution_count": null,
   "metadata": {
    "hidden": true
   },
   "outputs": [],
   "source": [
    "#TODO: HLS color threshold"
   ]
  },
  {
   "cell_type": "markdown",
   "metadata": {
    "heading_collapsed": true,
    "hidden": true
   },
   "source": [
    "### Perspective Transform"
   ]
  },
  {
   "cell_type": "code",
   "execution_count": null,
   "metadata": {
    "code_folding": [
     0
    ],
    "hidden": true
   },
   "outputs": [],
   "source": [
    "def create_lane_guides(img, lines, offset=200, line_color=(0,255,0), show=True):\n",
    "    '''\n",
    "    Return a perspective transform image based on the provided quadrilateral\n",
    "    representing lane lines in the original image.\n",
    "    \n",
    "    Note lines must go like [Bottom-Left, Top-Left, Top-Right, Bottom-Right].\n",
    "    '''    \n",
    "    copy = img.copy()\n",
    "\n",
    "    line_thickness = 2\n",
    "    # Create a line on image for each pair of points(that defines a line)\n",
    "    for pt0,pt1 in zip(lines, lines[1:]):\n",
    "        cv2.line(copy, pt0, pt1, line_color, line_thickness)\n",
    "\n",
    "    # Display the lane guides with original image\n",
    "    if show:\n",
    "        fig, ax = plt.subplots(figsize=(40, 20))\n",
    "        ax.imshow(copy)\n",
    "    \n",
    "    # Getting image and the relevant measurements\n",
    "    gray = cv2.cvtColor(img, cv2.COLOR_BGR2GRAY)\n",
    "    img_size = (gray.shape[1], gray.shape[0])\n",
    "    \n",
    "    # Getting the image destination\n",
    "    # Bottom-Left, Top-Left, Top-Right, Bottom-Right\n",
    "    dst = np.float32([\n",
    "        [offset, img_size[1]],\n",
    "        [offset, 0],\n",
    "        [img_size[0]-offset, 0],\n",
    "        [img_size[0]-offset, img_size[1]]\n",
    "    ])\n",
    "    \n",
    "    # Source from the lane guide lines\n",
    "    src = np.zeros(shape=(len(lines),2), dtype='float32')\n",
    "    for i,line_pts in enumerate(lines):\n",
    "        src[i,:] = line_pts\n",
    "    \n",
    " \n",
    "    # Unwarp the image\n",
    "    M = cv2.getPerspectiveTransform(src, dst)\n",
    "    warped = cv2.warpPerspective(undist, M, img_size)\n",
    "\n",
    "    if show:\n",
    "        fig, ax = plt.subplots(figsize=(40, 20))\n",
    "        ax.imshow(warped)\n",
    "    \n",
    "    return warped"
   ]
  },
  {
   "cell_type": "markdown",
   "metadata": {
    "heading_collapsed": true,
    "hidden": true
   },
   "source": [
    "#### A Test"
   ]
  },
  {
   "cell_type": "code",
   "execution_count": null,
   "metadata": {
    "code_folding": [],
    "hidden": true
   },
   "outputs": [],
   "source": [
    "# Geetting a straight lines test (straight_lines1.jpg)\n",
    "undist = undist_imgs[-1][1]"
   ]
  },
  {
   "cell_type": "code",
   "execution_count": null,
   "metadata": {
    "hidden": true
   },
   "outputs": [],
   "source": [
    "# Create guides for the typical lanes needed\n",
    "y_bottom = 720\n",
    "y_top = 455\n",
    "\n",
    "# Bottom-Left, Top-Left, Top-Right, Bottom-Right\n",
    "lines = [\n",
    "    (190, y_bottom), # bottom left\n",
    "    (585, y_top), # top left\n",
    "    (705, y_top), # top right\n",
    "    (1130, y_bottom) # bottom right\n",
    "]"
   ]
  },
  {
   "cell_type": "code",
   "execution_count": null,
   "metadata": {
    "hidden": true,
    "scrolled": false
   },
   "outputs": [],
   "source": [
    "warped = create_lane_guides(undist, lines, show=True);"
   ]
  },
  {
   "cell_type": "markdown",
   "metadata": {
    "heading_collapsed": true,
    "hidden": true
   },
   "source": [
    "### Identify Lane-Line Pixels"
   ]
  },
  {
   "cell_type": "code",
   "execution_count": null,
   "metadata": {
    "hidden": true
   },
   "outputs": [],
   "source": []
  },
  {
   "cell_type": "markdown",
   "metadata": {
    "heading_collapsed": true,
    "hidden": true
   },
   "source": [
    "### Radius of Curvature of Lane & Position of Vehicle w.r.t. Center"
   ]
  },
  {
   "cell_type": "code",
   "execution_count": null,
   "metadata": {
    "hidden": true
   },
   "outputs": [],
   "source": []
  },
  {
   "cell_type": "markdown",
   "metadata": {
    "heading_collapsed": true,
    "hidden": true
   },
   "source": [
    "## Main Pipeline"
   ]
  }
 ],
 "metadata": {
  "kernelspec": {
   "display_name": "Python 3",
   "language": "python",
   "name": "python3"
  },
  "language_info": {
   "codemirror_mode": {
    "name": "ipython",
    "version": 3
   },
   "file_extension": ".py",
   "mimetype": "text/x-python",
   "name": "python",
   "nbconvert_exporter": "python",
   "pygments_lexer": "ipython3",
   "version": "3.7.1"
  },
  "toc": {
   "base_numbering": 1,
   "nav_menu": {},
   "number_sections": true,
   "sideBar": true,
   "skip_h1_title": false,
   "title_cell": "Table of Contents",
   "title_sidebar": "Contents",
   "toc_cell": true,
   "toc_position": {},
   "toc_section_display": true,
   "toc_window_display": true
  },
  "varInspector": {
   "cols": {
    "lenName": 16,
    "lenType": 16,
    "lenVar": 40
   },
   "kernels_config": {
    "python": {
     "delete_cmd_postfix": "",
     "delete_cmd_prefix": "del ",
     "library": "var_list.py",
     "varRefreshCmd": "print(var_dic_list())"
    },
    "r": {
     "delete_cmd_postfix": ") ",
     "delete_cmd_prefix": "rm(",
     "library": "var_list.r",
     "varRefreshCmd": "cat(var_dic_list()) "
    }
   },
   "types_to_exclude": [
    "module",
    "function",
    "builtin_function_or_method",
    "instance",
    "_Feature"
   ],
   "window_display": false
  }
 },
 "nbformat": 4,
 "nbformat_minor": 2
}
