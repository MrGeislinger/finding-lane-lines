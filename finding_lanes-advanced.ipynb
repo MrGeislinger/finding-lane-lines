{
 "cells": [
  {
   "cell_type": "markdown",
   "metadata": {
    "toc": true
   },
   "source": [
    "<h1>Table of Contents<span class=\"tocSkip\"></span></h1>\n",
    "<div class=\"toc\"><ul class=\"toc-item\"><li><span><a href=\"#Camera-Calibration\" data-toc-modified-id=\"Camera-Calibration-1\"><span class=\"toc-item-num\">1&nbsp;&nbsp;</span>Camera Calibration</a></span></li><li><span><a href=\"#Pipeline\" data-toc-modified-id=\"Pipeline-2\"><span class=\"toc-item-num\">2&nbsp;&nbsp;</span>Pipeline</a></span><ul class=\"toc-item\"><li><span><a href=\"#Code\" data-toc-modified-id=\"Code-2.1\"><span class=\"toc-item-num\">2.1&nbsp;&nbsp;</span>Code</a></span><ul class=\"toc-item\"><li><span><a href=\"#Helper-Functions\" data-toc-modified-id=\"Helper-Functions-2.1.1\"><span class=\"toc-item-num\">2.1.1&nbsp;&nbsp;</span>Helper Functions</a></span></li><li><span><a href=\"#Main-Pipeline\" data-toc-modified-id=\"Main-Pipeline-2.1.2\"><span class=\"toc-item-num\">2.1.2&nbsp;&nbsp;</span>Main Pipeline</a></span></li></ul></li></ul></li></ul></div>"
   ]
  },
  {
   "cell_type": "markdown",
   "metadata": {
    "heading_collapsed": true
   },
   "source": [
    "# Camera Calibration"
   ]
  },
  {
   "cell_type": "markdown",
   "metadata": {
    "hidden": true
   },
   "source": [
    "* Find camera matrix & distortion coefficients\n",
    "* Demonstrate undistorting calibration image\n"
   ]
  },
  {
   "cell_type": "code",
   "execution_count": null,
   "metadata": {
    "hidden": true
   },
   "outputs": [],
   "source": [
    "import cv2\n",
    "import glob\n",
    "import numpy as np\n",
    "import matplotlib.pyplot as plt\n",
    "import matplotlib.image as mpimg\n",
    "import pickle\n",
    "import math"
   ]
  },
  {
   "cell_type": "code",
   "execution_count": null,
   "metadata": {
    "code_folding": [
     0
    ],
    "hidden": true
   },
   "outputs": [],
   "source": [
    "def calibration_undistort(images):\n",
    "    '''\n",
    "    Use images to calculate the camera calibration & image distortion matrices\n",
    "    '''\n",
    "    # Object points follow a grid, like (0,0,0), (1,0,0), (2,0,0)...\n",
    "    objp = np.zeros((9*6,3), np.float32)\n",
    "    objp[:,:2] = np.mgrid[0:9,0:6].T.reshape(-1,2)\n",
    "\n",
    "    # Arrays to store object points and image points from all the images.\n",
    "    objpts = [] # 3d points in real world space\n",
    "    imgpts = [] # 2d points in image plane.\n",
    "\n",
    "    # Step through the list and search for chessboard corners\n",
    "    for fname in images:\n",
    "        # Read in each image\n",
    "        img = cv2.imread(fname)\n",
    "\n",
    "        # Find the chessboard corners\n",
    "        gray = cv2.cvtColor(img,cv2.COLOR_BGR2GRAY)\n",
    "        ret, corners = cv2.findChessboardCorners(gray, (9,6),None)\n",
    "\n",
    "        # Add object points & image points if found\n",
    "        if ret == True:\n",
    "            objpts.append(objp)\n",
    "            imgpts.append(corners)\n",
    "     \n",
    "    # Create matrix using all the images (with corners found)\n",
    "    # ret, mtx, dist, rvecs, tvecs\n",
    "    _, mtx, dist, _, _ = cv2.calibrateCamera(objpts, imgpts, img.shape[1:], None, None)\n",
    "    return (mtx, dist)"
   ]
  },
  {
   "cell_type": "code",
   "execution_count": null,
   "metadata": {
    "hidden": true
   },
   "outputs": [],
   "source": [
    "# Load all the images & use them to the matrices \n",
    "images = glob.glob('camera_cal/calibration*.jpg')\n",
    "mtx, dist = calibration_undistort(images)"
   ]
  },
  {
   "cell_type": "code",
   "execution_count": null,
   "metadata": {
    "code_folding": [],
    "hidden": true,
    "scrolled": true
   },
   "outputs": [],
   "source": [
    "# TEST: Plot out each image undistorted \n",
    "images = glob.glob('camera_cal/calibration*.jpg')\n",
    "for fname in images:\n",
    "    # Undistort the image\n",
    "    img = cv2.imread(fname)\n",
    "    undist = cv2.undistort(img, mtx, dist, None, mtx)\n",
    "    \n",
    "    # Plotting side-by-side\n",
    "    f, (ax1, ax2) = plt.subplots(1, 2, figsize=(24, 9))\n",
    "    f.tight_layout()\n",
    "    ax1.imshow(img)\n",
    "    ax1.set_title('Original Image', fontsize=50)\n",
    "    ax2.imshow(undist)\n",
    "    ax2.set_title('Undistorted and Warped Image', fontsize=50)\n",
    "    plt.subplots_adjust(left=0., right=1, top=0.9, bottom=0.)"
   ]
  },
  {
   "cell_type": "code",
   "execution_count": null,
   "metadata": {
    "hidden": true
   },
   "outputs": [],
   "source": [
    "# Save the calibration for later use\n",
    "pickle.dump({'mtx': mtx, 'dist': dist}, \n",
    "            open('camera_cal/calibration_matrices.pickle', 'wb')\n",
    ")"
   ]
  },
  {
   "cell_type": "markdown",
   "metadata": {},
   "source": [
    "# Pipeline"
   ]
  },
  {
   "cell_type": "markdown",
   "metadata": {},
   "source": [
    "For all images:\n",
    "\n",
    "* Distortion correction image\n",
    "* Create a thresholded binary image\n",
    "    - Color transforms, gradients or other methods\n",
    "* Perspective transform (\"birds-eye view\")\n",
    "* Identify lane-line pixels and fit their positions with a polynomial\n",
    "* Calculate radius of curvature of lane & position of vehicle with respect to center\n",
    "* Result plotted down onto the road so lane area is identified clearly\n"
   ]
  },
  {
   "cell_type": "markdown",
   "metadata": {},
   "source": [
    "## Code"
   ]
  },
  {
   "cell_type": "markdown",
   "metadata": {},
   "source": [
    "### Helper Functions"
   ]
  },
  {
   "cell_type": "code",
   "execution_count": null,
   "metadata": {},
   "outputs": [],
   "source": [
    "def read_image_from_file(img_filepath, convert=None):\n",
    "    '''\n",
    "    Returns the filename/filepath & image (numpy matrix) from given file path.\n",
    "    '''\n",
    "    img = cv2.imread(img_filepath)\n",
    "    \n",
    "    # Allow for color conversion\n",
    "    if convert:\n",
    "        img = cv2.cvtColor(img, convert)\n",
    "        \n",
    "    return (img_filepath, img)\n",
    "\n",
    "def display_images(img_filenames, figsize=(24,8), cols=3, rows=None, convert=None):\n",
    "    '''\n",
    "    Display images given a list of images to display. If `rows` is `None`, \n",
    "    rows will be calculated given the number of columns `cols`\n",
    "    '''\n",
    "    \n",
    "    # Getting the size to plot; enough rows to fit column\n",
    "    if not rows:\n",
    "        rows = math.ceil(len(img_filenames) // cols)\n",
    "    elif rows*cols < len(img_filenames):\n",
    "        print(f'Note: not all images will be displayed')\n",
    "        print(f'{len(img_filenames)} images, but only {rows*cols} will be displayed')\n",
    "    f, axs = plt.subplots(rows, cols, figsize=figsize)\n",
    "    \n",
    "    # Image files and names (using a conversion if needed)\n",
    "    read_images = lambda fnames: read_image_from_file(fnames, convert=convert)\n",
    "    fnames_and_imgs = list(map(read_images, img_filenames))\n",
    "    \n",
    "    # Iterate over each axis to display the image\n",
    "    for ax, fname_imgs_tuple in zip(axs.flat, fnames_and_imgs):\n",
    "        fname, img = fname_imgs_tuple\n",
    "        ax.set_title(fname)\n",
    "        ax.imshow(img)\n",
    "    "
   ]
  },
  {
   "cell_type": "markdown",
   "metadata": {},
   "source": [
    "### Main Pipeline"
   ]
  },
  {
   "cell_type": "code",
   "execution_count": null,
   "metadata": {},
   "outputs": [],
   "source": [
    "# Load camera calibration matrices from earlier\n",
    "cameraCalibration = pickle.load( open('camera_cal/calibration_matrices.pickle', 'rb' ) )\n",
    "mtx, dist = map(cameraCalibration.get, ('mtx', 'dist'))"
   ]
  },
  {
   "cell_type": "code",
   "execution_count": null,
   "metadata": {},
   "outputs": [],
   "source": [
    "# Read in files to convert\n",
    "test_images = glob.glob('test_images/advance/*.jpg')\n",
    "# Display the unmodified images\n",
    "display_images(test_images, cols=4, figsize=(24,8), convert=cv2.COLOR_BGR2RGB)"
   ]
  }
 ],
 "metadata": {
  "kernelspec": {
   "display_name": "Python 3",
   "language": "python",
   "name": "python3"
  },
  "language_info": {
   "codemirror_mode": {
    "name": "ipython",
    "version": 3
   },
   "file_extension": ".py",
   "mimetype": "text/x-python",
   "name": "python",
   "nbconvert_exporter": "python",
   "pygments_lexer": "ipython3",
   "version": "3.7.1"
  },
  "toc": {
   "base_numbering": 1,
   "nav_menu": {},
   "number_sections": true,
   "sideBar": true,
   "skip_h1_title": false,
   "title_cell": "Table of Contents",
   "title_sidebar": "Contents",
   "toc_cell": true,
   "toc_position": {},
   "toc_section_display": true,
   "toc_window_display": true
  },
  "varInspector": {
   "cols": {
    "lenName": 16,
    "lenType": 16,
    "lenVar": 40
   },
   "kernels_config": {
    "python": {
     "delete_cmd_postfix": "",
     "delete_cmd_prefix": "del ",
     "library": "var_list.py",
     "varRefreshCmd": "print(var_dic_list())"
    },
    "r": {
     "delete_cmd_postfix": ") ",
     "delete_cmd_prefix": "rm(",
     "library": "var_list.r",
     "varRefreshCmd": "cat(var_dic_list()) "
    }
   },
   "types_to_exclude": [
    "module",
    "function",
    "builtin_function_or_method",
    "instance",
    "_Feature"
   ],
   "window_display": false
  }
 },
 "nbformat": 4,
 "nbformat_minor": 2
}
